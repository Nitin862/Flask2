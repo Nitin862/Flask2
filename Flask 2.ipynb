{
 "cells": [
  {
   "cell_type": "code",
   "execution_count": 1,
   "id": "8943b910-4442-4f54-b04d-54c83a15b451",
   "metadata": {},
   "outputs": [
    {
     "data": {
      "text/plain": [
       "'Q1. Explain GET and POST methods.'"
      ]
     },
     "execution_count": 1,
     "metadata": {},
     "output_type": "execute_result"
    }
   ],
   "source": [
    "'''Q1. Explain GET and POST methods.'''"
   ]
  },
  {
   "cell_type": "code",
   "execution_count": 2,
   "id": "b345a038-2c46-4622-b89a-8f2688a3b25f",
   "metadata": {},
   "outputs": [
    {
     "data": {
      "text/plain": [
       "'GET Method:\\n\\nPurpose: Retrieves data from a server.\\nUsage: Used for requests that do not alter the server state (e.g., fetching a webpage or search results).\\nData: Parameters are appended to the URL (query string).\\nPOST Method:\\n\\nPurpose: Sends data to the server to create or update resources.\\nUsage: Used for requests that alter the server state (e.g., submitting a form or uploading a file).\\nData: Parameters are included in the request body, not visible in the URL.'"
      ]
     },
     "execution_count": 2,
     "metadata": {},
     "output_type": "execute_result"
    }
   ],
   "source": [
    "'''GET Method:\n",
    "\n",
    "Purpose: Retrieves data from a server.\n",
    "Usage: Used for requests that do not alter the server state (e.g., fetching a webpage or search results).\n",
    "Data: Parameters are appended to the URL (query string).\n",
    "POST Method:\n",
    "\n",
    "Purpose: Sends data to the server to create or update resources.\n",
    "Usage: Used for requests that alter the server state (e.g., submitting a form or uploading a file).\n",
    "Data: Parameters are included in the request body, not visible in the URL.'''"
   ]
  },
  {
   "cell_type": "code",
   "execution_count": 3,
   "id": "5d3d98d9-dac9-4467-9796-d776dba7abb7",
   "metadata": {},
   "outputs": [
    {
     "data": {
      "text/plain": [
       "'Q2. Why is request used in Flask?'"
      ]
     },
     "execution_count": 3,
     "metadata": {},
     "output_type": "execute_result"
    }
   ],
   "source": [
    "'''Q2. Why is request used in Flask?'''"
   ]
  },
  {
   "cell_type": "code",
   "execution_count": 4,
   "id": "def84696-7205-43eb-bc2d-25b2350bc37c",
   "metadata": {},
   "outputs": [
    {
     "data": {
      "text/plain": [
       "'In Flask, request is used to access data sent by the client to the server. It provides access to various elements \\nof the incoming request, such as:\\n\\nForm Data: Data submitted through forms (request.form).\\nQuery Parameters: URL parameters (request.args).\\nRequest Headers: Metadata about the request (request.headers).\\nRequest Method: The HTTP method used (request.method).\\nFile Uploads: Files sent with the request (request.files).'"
      ]
     },
     "execution_count": 4,
     "metadata": {},
     "output_type": "execute_result"
    }
   ],
   "source": [
    "'''In Flask, request is used to access data sent by the client to the server. It provides access to various elements \n",
    "of the incoming request, such as:\n",
    "\n",
    "Form Data: Data submitted through forms (request.form).\n",
    "Query Parameters: URL parameters (request.args).\n",
    "Request Headers: Metadata about the request (request.headers).\n",
    "Request Method: The HTTP method used (request.method).\n",
    "File Uploads: Files sent with the request (request.files).'''"
   ]
  },
  {
   "cell_type": "code",
   "execution_count": 5,
   "id": "1b262482-1beb-47a6-8bbe-6046d600caea",
   "metadata": {},
   "outputs": [
    {
     "data": {
      "text/plain": [
       "'Q3. Why is redirect() used in Flask?'"
      ]
     },
     "execution_count": 5,
     "metadata": {},
     "output_type": "execute_result"
    }
   ],
   "source": [
    "'''Q3. Why is redirect() used in Flask?'''"
   ]
  },
  {
   "cell_type": "code",
   "execution_count": 6,
   "id": "b79adfd9-130d-48f4-b88d-27023a472755",
   "metadata": {},
   "outputs": [
    {
     "data": {
      "text/plain": [
       "\"In Flask, redirect() is used to send a client to a different URL. It issues an HTTP redirect response, which instructs the client's browser to navigate to a new location. This is commonly used for:\\n\\nAfter Form Submission: Redirecting to another page after a form is submitted to avoid resubmission issues.\\nRouting: Redirecting to different routes or URLs based on logic in the application\""
      ]
     },
     "execution_count": 6,
     "metadata": {},
     "output_type": "execute_result"
    }
   ],
   "source": [
    "'''In Flask, redirect() is used to send a client to a different URL. It issues an HTTP redirect response, which instructs the client's browser to navigate to a new location. This is commonly used for:\n",
    "\n",
    "After Form Submission: Redirecting to another page after a form is submitted to avoid resubmission issues.\n",
    "Routing: Redirecting to different routes or URLs based on logic in the application'''"
   ]
  },
  {
   "cell_type": "code",
   "execution_count": 7,
   "id": "2f24f5b3-9dd9-4a3b-8fd2-7eb97cf1444e",
   "metadata": {},
   "outputs": [
    {
     "data": {
      "text/plain": [
       "'Q4. What are templates in Flask? Why is the render_template() function used?'"
      ]
     },
     "execution_count": 7,
     "metadata": {},
     "output_type": "execute_result"
    }
   ],
   "source": [
    "'''Q4. What are templates in Flask? Why is the render_template() function used?'''"
   ]
  },
  {
   "cell_type": "code",
   "execution_count": 8,
   "id": "01fd8070-65a3-4cdd-a193-a2ef93305079",
   "metadata": {},
   "outputs": [
    {
     "data": {
      "text/plain": [
       "'Templates in Flask: Templates are HTML files with placeholders that are dynamically filled with data. They allow you to separate HTML structure from the application logic.\\n\\nrender_template() Function: The render_template() function is used to render a template with specific data. It generates the final HTML by combining the template file with data passed to it, which is then sent to the client.'"
      ]
     },
     "execution_count": 8,
     "metadata": {},
     "output_type": "execute_result"
    }
   ],
   "source": [
    "'''Templates in Flask: Templates are HTML files with placeholders that are dynamically filled with data. They allow you to separate HTML structure from the application logic.\n",
    "\n",
    "render_template() Function: The render_template() function is used to render a template with specific data. It generates the final HTML by combining the template file with data passed to it, which is then sent to the client.'''"
   ]
  },
  {
   "cell_type": "code",
   "execution_count": 9,
   "id": "39a2d6e6-98de-42aa-8e74-dc3bc197cda4",
   "metadata": {},
   "outputs": [
    {
     "data": {
      "text/plain": [
       "'Q5. Create a simple API. Use Postman to test it. Attach the screenshot of the output in the Jupyter Notebook.'"
      ]
     },
     "execution_count": 9,
     "metadata": {},
     "output_type": "execute_result"
    }
   ],
   "source": [
    "'''Q5. Create a simple API. Use Postman to test it. Attach the screenshot of the output in the Jupyter Notebook.'''"
   ]
  },
  {
   "cell_type": "code",
   "execution_count": null,
   "id": "71273896-1f16-4729-81d4-1c2911def397",
   "metadata": {},
   "outputs": [],
   "source": [
    "from flask import Flask, jsonify\n",
    "\n",
    "app = Flask(__name__)\n",
    "\n",
    "@app.route('/api/greet', methods=['GET'])\n",
    "def greet():\n",
    "    return jsonify({'message': 'Hello, World!'})\n",
    "\n",
    "if __name__ == '__main__':\n",
    "    app.run(debug=True)\n"
   ]
  }
 ],
 "metadata": {
  "kernelspec": {
   "display_name": "Python 3 (ipykernel)",
   "language": "python",
   "name": "python3"
  },
  "language_info": {
   "codemirror_mode": {
    "name": "ipython",
    "version": 3
   },
   "file_extension": ".py",
   "mimetype": "text/x-python",
   "name": "python",
   "nbconvert_exporter": "python",
   "pygments_lexer": "ipython3",
   "version": "3.10.8"
  }
 },
 "nbformat": 4,
 "nbformat_minor": 5
}
